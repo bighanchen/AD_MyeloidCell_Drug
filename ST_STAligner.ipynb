{
 "cells": [
  {
   "cell_type": "code",
   "execution_count": 1,
   "id": "ce11c89c",
   "metadata": {
    "ExecuteTime": {
     "end_time": "2024-08-18T05:16:06.147879Z",
     "start_time": "2024-08-18T05:15:05.458684Z"
    },
    "execution": {
     "iopub.execute_input": "2024-10-24T03:22:01.471685Z",
     "iopub.status.busy": "2024-10-24T03:22:01.471685Z",
     "iopub.status.idle": "2024-10-24T03:22:06.398323Z",
     "shell.execute_reply": "2024-10-24T03:22:06.398323Z",
     "shell.execute_reply.started": "2024-10-24T03:22:01.471685Z"
    }
   },
   "outputs": [],
   "source": [
    "# author: Yuhan Jia (jiayuhan21@mails.ucas.ac.cn) and Yiyang Zhang (zhangyiyang1328@163.com)\n",
    "import sys\n",
    "sys.path.append('./Algorithm/STAligner/STAligner/')\n",
    "\n",
    "import ST_utils\n",
    "import train_STAligner\n",
    "\n",
    "###################################\n",
    "import os\n",
    "os.environ['R_HOME'] = \"D:/Users/zyzhang/R-4.2.1\"\n",
    "os.environ['R_USER'] = \"D:/Users/zyzhang/Miniconda/envs/mouse_AD/Lib/site-packages/rpy2\"\n",
    "\n",
    "import rpy2.robjects as robjects\n",
    "import rpy2.robjects.numpy2ri\n",
    "\n",
    "import warnings\n",
    "warnings.filterwarnings(\"ignore\")\n",
    "\n",
    "from sklearn.cluster import KMeans\n",
    "import itertools\n",
    "import torch\n",
    "import math\n",
    "# from evaluation import eva\n",
    "import anndata as ad\n",
    "import scanpy as sc\n",
    "import pandas as pd\n",
    "import numpy as np\n",
    "import os\n",
    "import scipy.sparse as sp\n",
    "import scipy.linalg\n",
    "from sklearn.metrics import adjusted_rand_score as ari_score\n",
    "import torch.nn.functional as F\n",
    "\n",
    "# seed_everything()\n",
    "import torch\n",
    "import numpy as np\n",
    "seed=666\n",
    "import torch.backends.cudnn as cudnn\n",
    "cudnn.deterministic = True\n",
    "cudnn.benchmark = True\n",
    "import random\n",
    "random.seed(seed)\n",
    "torch.manual_seed(seed)\n",
    "torch.cuda.manual_seed_all(seed)\n",
    "np.random.seed(seed)"
   ]
  },
  {
   "cell_type": "code",
   "execution_count": 2,
   "id": "38e85040",
   "metadata": {
    "ExecuteTime": {
     "end_time": "2024-08-18T05:16:06.157876Z",
     "start_time": "2024-08-18T05:16:06.151876Z"
    },
    "execution": {
     "iopub.execute_input": "2024-10-24T03:22:06.400322Z",
     "iopub.status.busy": "2024-10-24T03:22:06.400322Z",
     "iopub.status.idle": "2024-10-24T03:22:06.403505Z",
     "shell.execute_reply": "2024-10-24T03:22:06.403505Z",
     "shell.execute_reply.started": "2024-10-24T03:22:06.400322Z"
    }
   },
   "outputs": [],
   "source": [
    "Batch_list = []\n",
    "\n",
    "section_ids = ['ST_3M_AD_1_1', 'ST_3M_AD_1_2', 'ST_3M_WT_1_1', 'ST_3M_WT_1_2',\n",
    "               'ST_6M_AD_2_1', 'ST_6M_AD_2_2', 'ST_6M_WT_2_1', 'ST_6M_WT_2_2',\n",
    "               'ST_15M_AD_2_1', 'ST_15M_AD_2_2', 'ST_15M_WT_2_1', 'ST_15M_WT_2_2'] "
   ]
  },
  {
   "cell_type": "code",
   "execution_count": 3,
   "id": "1d14985f",
   "metadata": {
    "ExecuteTime": {
     "end_time": "2024-08-18T05:18:28.157298Z",
     "start_time": "2024-08-18T05:16:06.159878Z"
    },
    "execution": {
     "iopub.execute_input": "2024-10-24T03:22:06.404323Z",
     "iopub.status.busy": "2024-10-24T03:22:06.404323Z",
     "iopub.status.idle": "2024-10-24T03:22:30.088960Z",
     "shell.execute_reply": "2024-10-24T03:22:30.088960Z",
     "shell.execute_reply.started": "2024-10-24T03:22:06.404323Z"
    }
   },
   "outputs": [
    {
     "name": "stdout",
     "output_type": "stream",
     "text": [
      "ST_3M_AD_1_1\n",
      "ST_3M_AD_1_2\n",
      "ST_3M_WT_1_1\n",
      "ST_3M_WT_1_2\n",
      "ST_6M_AD_2_1\n",
      "ST_6M_AD_2_2\n",
      "ST_6M_WT_2_1\n",
      "ST_6M_WT_2_2\n",
      "ST_15M_AD_2_1\n",
      "ST_15M_AD_2_2\n",
      "ST_15M_WT_2_1\n",
      "ST_15M_WT_2_2\n"
     ]
    }
   ],
   "source": [
    "for section_id in section_ids:\n",
    "    print(section_id)\n",
    "    \n",
    "    # The path to Data\n",
    "    input_dir0 = os.path.join('D:/Users/zyzhang/Alzheimer/st/', section_id)\n",
    "    adata = sc.read_visium(path=input_dir0, count_file='filtered_feature_bc_matrix.h5',\n",
    "                           load_images=True)\n",
    "    \n",
    "    if_choose_file = pd.read_csv(input_dir0 + '/if_choose.csv', index_col=0, sep=',')\n",
    "    barcodes_for_choose = if_choose_file[if_choose_file['if_choose']== 1].index \n",
    "    adata = adata[barcodes_for_choose, ]\n",
    "    \n",
    "    adata.var_names_make_unique(join=\"++\")\n",
    "    \n",
    "    # Normalization\n",
    "    sc.pp.normalize_total(adata, target_sum=1e4)\n",
    "    sc.pp.log1p(adata)\n",
    "    sc.pp.highly_variable_genes(adata, flavor=\"seurat_v3\", n_top_genes=15000)\n",
    "\n",
    "    Batch_list.append(adata)"
   ]
  },
  {
   "cell_type": "code",
   "execution_count": 4,
   "id": "2b16fd2d",
   "metadata": {
    "ExecuteTime": {
     "end_time": "2024-08-18T05:18:28.166298Z",
     "start_time": "2024-08-18T05:18:28.161298Z"
    },
    "execution": {
     "iopub.execute_input": "2024-10-24T03:22:30.090963Z",
     "iopub.status.busy": "2024-10-24T03:22:30.089960Z",
     "iopub.status.idle": "2024-10-24T03:22:30.161961Z",
     "shell.execute_reply": "2024-10-24T03:22:30.160960Z",
     "shell.execute_reply.started": "2024-10-24T03:22:30.090963Z"
    }
   },
   "outputs": [],
   "source": [
    "for m in range(len(Batch_list)):\n",
    "    # Read the clustering results from STAligner\n",
    "    STAligner_results = pd.read_csv(f'./results/STAligner/256hidden/{section_ids[m]}.csv',\n",
    "                                    index_col=0, sep=',', header=0)\n",
    "    \n",
    "    Batch_list[m].obs['STAligner'] = STAligner_results.loc[Batch_list[m].obs_names, \n",
    "                                                           'STAligner'].map(lambda x: str(x))"
   ]
  },
  {
   "cell_type": "code",
   "execution_count": 5,
   "id": "6ab7fd77-8adc-46f8-96c2-de3225cfa7f5",
   "metadata": {
    "execution": {
     "iopub.execute_input": "2024-10-24T03:22:30.163961Z",
     "iopub.status.busy": "2024-10-24T03:22:30.162961Z",
     "iopub.status.idle": "2024-10-24T03:22:30.170960Z",
     "shell.execute_reply": "2024-10-24T03:22:30.169962Z",
     "shell.execute_reply.started": "2024-10-24T03:22:30.163961Z"
    }
   },
   "outputs": [],
   "source": [
    "map_dict = {\n",
    "    \"1\": \"L5\",\n",
    "    \"2\": \"AIp\",\n",
    "    \"3\": \"L6\",\n",
    "    \"4\": \"CTXsp-1\",\n",
    "    \"5\": \"L4\",\n",
    "    \"6\": \"TH-2\",\n",
    "    \"7\": \"SI\",\n",
    "    \"8\": \"HY\",\n",
    "    \"9\": \"CA-1\",\n",
    "    \"10\": \"sAMY\",\n",
    "    \"11\": \"L2/3\",\n",
    "    \"12\": \"L1\",\n",
    "    \"13\": \"STRD-1\",\n",
    "    \"14\": \"OPT\",\n",
    "    \"15\": \"PIR-1\",\n",
    "    \"16\": \"TH-1\",\n",
    "    \"17\": \"CA-2\",\n",
    "    \"18\": \"VL\",\n",
    "    \"19\": \"DORsm\",\n",
    "    \"20\": \"CC\",\n",
    "    \"21\": \"STRD-2\",\n",
    "    \"22\": \"PIR-2\",\n",
    "    \"23\": \"DG\",\n",
    "    \"24\": \"CTXsp-2\",\n",
    "    \"25\": \"RT\"\n",
    "}"
   ]
  },
  {
   "cell_type": "code",
   "execution_count": 6,
   "id": "44776357",
   "metadata": {
    "ExecuteTime": {
     "end_time": "2024-08-18T06:25:20.751268Z",
     "start_time": "2024-08-18T06:16:00.323378Z"
    },
    "execution": {
     "iopub.execute_input": "2024-10-24T03:22:30.171960Z",
     "iopub.status.busy": "2024-10-24T03:22:30.171960Z",
     "iopub.status.idle": "2024-10-24T03:23:12.218089Z",
     "shell.execute_reply": "2024-10-24T03:23:12.217089Z",
     "shell.execute_reply.started": "2024-10-24T03:22:30.171960Z"
    }
   },
   "outputs": [
    {
     "name": "stderr",
     "output_type": "stream",
     "text": [
      "  0%|                                                                                                                                                                                      | 0/12 [00:00<?, ?it/s]"
     ]
    },
    {
     "name": "stdout",
     "output_type": "stream",
     "text": [
      "WARNING: saving figure to file figures\\show\\final_STAligner\\ST_3M_AD_1_1.png\n",
      "WARNING: saving figure to file figures\\show\\final_STAligner\\ST_3M_AD_1_1.pdf\n"
     ]
    },
    {
     "name": "stderr",
     "output_type": "stream",
     "text": [
      "  8%|██████████████▌                                                                                                                                                               | 1/12 [00:04<00:51,  4.67s/it]"
     ]
    },
    {
     "name": "stdout",
     "output_type": "stream",
     "text": [
      "WARNING: saving figure to file figures\\show\\final_STAligner\\ST_3M_AD_1_2.png\n",
      "WARNING: saving figure to file figures\\show\\final_STAligner\\ST_3M_AD_1_2.pdf\n"
     ]
    },
    {
     "name": "stderr",
     "output_type": "stream",
     "text": [
      " 17%|█████████████████████████████                                                                                                                                                 | 2/12 [00:08<00:38,  3.89s/it]"
     ]
    },
    {
     "name": "stdout",
     "output_type": "stream",
     "text": [
      "WARNING: saving figure to file figures\\show\\final_STAligner\\ST_3M_WT_1_1.png\n",
      "WARNING: saving figure to file figures\\show\\final_STAligner\\ST_3M_WT_1_1.pdf\n"
     ]
    },
    {
     "name": "stderr",
     "output_type": "stream",
     "text": [
      " 25%|███████████████████████████████████████████▌                                                                                                                                  | 3/12 [00:11<00:33,  3.67s/it]"
     ]
    },
    {
     "name": "stdout",
     "output_type": "stream",
     "text": [
      "WARNING: saving figure to file figures\\show\\final_STAligner\\ST_3M_WT_1_2.png\n",
      "WARNING: saving figure to file figures\\show\\final_STAligner\\ST_3M_WT_1_2.pdf\n"
     ]
    },
    {
     "name": "stderr",
     "output_type": "stream",
     "text": [
      " 33%|██████████████████████████████████████████████████████████                                                                                                                    | 4/12 [00:14<00:28,  3.58s/it]"
     ]
    },
    {
     "name": "stdout",
     "output_type": "stream",
     "text": [
      "WARNING: saving figure to file figures\\show\\final_STAligner\\ST_6M_AD_2_1.png\n",
      "WARNING: saving figure to file figures\\show\\final_STAligner\\ST_6M_AD_2_1.pdf\n"
     ]
    },
    {
     "name": "stderr",
     "output_type": "stream",
     "text": [
      " 42%|████████████████████████████████████████████████████████████████████████▌                                                                                                     | 5/12 [00:18<00:24,  3.47s/it]"
     ]
    },
    {
     "name": "stdout",
     "output_type": "stream",
     "text": [
      "WARNING: saving figure to file figures\\show\\final_STAligner\\ST_6M_AD_2_2.png\n",
      "WARNING: saving figure to file figures\\show\\final_STAligner\\ST_6M_AD_2_2.pdf\n"
     ]
    },
    {
     "name": "stderr",
     "output_type": "stream",
     "text": [
      " 50%|███████████████████████████████████████████████████████████████████████████████████████                                                                                       | 6/12 [00:21<00:20,  3.42s/it]"
     ]
    },
    {
     "name": "stdout",
     "output_type": "stream",
     "text": [
      "WARNING: saving figure to file figures\\show\\final_STAligner\\ST_6M_WT_2_1.png\n",
      "WARNING: saving figure to file figures\\show\\final_STAligner\\ST_6M_WT_2_1.pdf\n"
     ]
    },
    {
     "name": "stderr",
     "output_type": "stream",
     "text": [
      " 58%|█████████████████████████████████████████████████████████████████████████████████████████████████████▌                                                                        | 7/12 [00:24<00:17,  3.43s/it]"
     ]
    },
    {
     "name": "stdout",
     "output_type": "stream",
     "text": [
      "WARNING: saving figure to file figures\\show\\final_STAligner\\ST_6M_WT_2_2.png\n",
      "WARNING: saving figure to file figures\\show\\final_STAligner\\ST_6M_WT_2_2.pdf\n"
     ]
    },
    {
     "name": "stderr",
     "output_type": "stream",
     "text": [
      " 67%|████████████████████████████████████████████████████████████████████████████████████████████████████████████████████                                                          | 8/12 [00:28<00:13,  3.43s/it]"
     ]
    },
    {
     "name": "stdout",
     "output_type": "stream",
     "text": [
      "WARNING: saving figure to file figures\\show\\final_STAligner\\ST_15M_AD_2_1.png\n",
      "WARNING: saving figure to file figures\\show\\final_STAligner\\ST_15M_AD_2_1.pdf\n"
     ]
    },
    {
     "name": "stderr",
     "output_type": "stream",
     "text": [
      " 75%|██████████████████████████████████████████████████████████████████████████████████████████████████████████████████████████████████▌                                           | 9/12 [00:31<00:10,  3.46s/it]"
     ]
    },
    {
     "name": "stdout",
     "output_type": "stream",
     "text": [
      "WARNING: saving figure to file figures\\show\\final_STAligner\\ST_15M_AD_2_2.png\n",
      "WARNING: saving figure to file figures\\show\\final_STAligner\\ST_15M_AD_2_2.pdf\n"
     ]
    },
    {
     "name": "stderr",
     "output_type": "stream",
     "text": [
      " 83%|████████████████████████████████████████████████████████████████████████████████████████████████████████████████████████████████████████████████▏                            | 10/12 [00:35<00:06,  3.39s/it]"
     ]
    },
    {
     "name": "stdout",
     "output_type": "stream",
     "text": [
      "WARNING: saving figure to file figures\\show\\final_STAligner\\ST_15M_WT_2_1.png\n",
      "WARNING: saving figure to file figures\\show\\final_STAligner\\ST_15M_WT_2_1.pdf\n"
     ]
    },
    {
     "name": "stderr",
     "output_type": "stream",
     "text": [
      " 92%|██████████████████████████████████████████████████████████████████████████████████████████████████████████████████████████████████████████████████████████████▌              | 11/12 [00:38<00:03,  3.41s/it]"
     ]
    },
    {
     "name": "stdout",
     "output_type": "stream",
     "text": [
      "WARNING: saving figure to file figures\\show\\final_STAligner\\ST_15M_WT_2_2.png\n",
      "WARNING: saving figure to file figures\\show\\final_STAligner\\ST_15M_WT_2_2.pdf\n"
     ]
    },
    {
     "name": "stderr",
     "output_type": "stream",
     "text": [
      "100%|█████████████████████████████████████████████████████████████████████████████████████████████████████████████████████████████████████████████████████████████████████████████| 12/12 [00:42<00:00,  3.50s/it]\n"
     ]
    }
   ],
   "source": [
    "import tqdm\n",
    "\n",
    "if not os.path.exists(f'./figures/show/final_STAligner'):\n",
    "    os.makedirs(f'./figures/show/final_STAligner')\n",
    "\n",
    "for m in tqdm.tqdm(range(len(Batch_list))):\n",
    "    \n",
    "    Batch_list[m].obs['STAligner'] = Batch_list[m].obs['STAligner'].map(lambda x:map_dict[x])\n",
    "    \n",
    "    # sc.pl.embedding(Batch_list[m], color=[f'STAligner'], basis='spatial',\n",
    "    #                   frameon = False, size=80, title='', show=False,\n",
    "    #                   save=f'/final_STAligner/{section_ids[m]}.png')\n",
    "    # sc.pl.embedding(Batch_list[m], color=[f'STAligner'], basis='spatial',\n",
    "    #                   frameon = False, size=80, title='', show=False,\n",
    "    #                   save=f'/final_STAligner/{section_ids[m]}.pdf')\n",
    "    sc.pl.spatial(\n",
    "            Batch_list[m],\n",
    "            color=[f'STAligner'],\n",
    "            size=1.3,\n",
    "            img_key=\"hires\",\n",
    "        title='', frameon=False,\n",
    "            show=False,\n",
    "            save=f'/final_STAligner/{section_ids[m]}.png',\n",
    "        )\n",
    "    sc.pl.spatial(\n",
    "            Batch_list[m],\n",
    "            color=[f'STAligner'],\n",
    "            size=1.3,\n",
    "            img_key=\"hires\",\n",
    "        title='', frameon=False,\n",
    "            show=False,\n",
    "            save=f'/final_STAligner/{section_ids[m]}.pdf',\n",
    "        )"
   ]
  },
  {
   "cell_type": "code",
   "execution_count": 7,
   "id": "c7cc93bf-eb61-43a2-9aa3-cba1d2550fe4",
   "metadata": {
    "execution": {
     "iopub.execute_input": "2024-10-24T03:23:12.219088Z",
     "iopub.status.busy": "2024-10-24T03:23:12.219088Z",
     "iopub.status.idle": "2024-10-24T03:23:12.226089Z",
     "shell.execute_reply": "2024-10-24T03:23:12.225089Z",
     "shell.execute_reply.started": "2024-10-24T03:23:12.219088Z"
    }
   },
   "outputs": [],
   "source": [
    "Merge_regions_dict = {\n",
    "    'L2/3': 'Cerebral cortex',\n",
    "    'CTXsp-1': 'Cerebral nuclei',\n",
    "    'DG': 'Hippocampal region',\n",
    "    'CA-2': 'Hippocampal region',\n",
    "    'sAMY': 'Cerebral nuclei',\n",
    "    'AIp': 'Cerebral cortex',\n",
    "    'HY': 'Hypothalamus',\n",
    "    'PIR-1': 'Cerebral cortex',\n",
    "    'PIR-2': 'Cerebral cortex',\n",
    "    'L5': 'Cerebral cortex',\n",
    "    'CC': 'Fiber tracts',\n",
    "    'SI': 'Cerebral nuclei',\n",
    "    'CA-1': 'Hippocampal region',\n",
    "    'L6': 'Cerebral cortex',\n",
    "    'L1': 'Cerebral cortex',\n",
    "    'VL': 'Ventricular systems',\n",
    "    'DORsm': 'Thalamus',\n",
    "    'TH-2': 'Thalamus',\n",
    "    'CTXsp-2': 'Cerebral nuclei',\n",
    "    'TH-1': 'Thalamus',\n",
    "    'OPT': 'Fiber tracts',\n",
    "    'STRD-1': 'Cerebral nuclei',\n",
    "    'L4': 'Cerebral cortex',\n",
    "    'STRD-2': 'Cerebral nuclei',\n",
    "    'RT': 'Thalamus'\n",
    "}"
   ]
  },
  {
   "cell_type": "code",
   "execution_count": 8,
   "id": "2fef380e-d2ca-429b-809e-89b1cbd48a7e",
   "metadata": {
    "execution": {
     "iopub.execute_input": "2024-10-24T03:23:12.227091Z",
     "iopub.status.busy": "2024-10-24T03:23:12.227091Z",
     "iopub.status.idle": "2024-10-24T03:23:43.772581Z",
     "shell.execute_reply": "2024-10-24T03:23:43.772581Z",
     "shell.execute_reply.started": "2024-10-24T03:23:12.227091Z"
    },
    "scrolled": true
   },
   "outputs": [
    {
     "name": "stderr",
     "output_type": "stream",
     "text": [
      "  0%|                                                                                                                                                                                      | 0/12 [00:00<?, ?it/s]"
     ]
    },
    {
     "name": "stdout",
     "output_type": "stream",
     "text": [
      "WARNING: saving figure to file figures\\show\\Merge_regions\\ST_3M_AD_1_1.png\n",
      "WARNING: saving figure to file figures\\show\\Merge_regions\\ST_3M_AD_1_1.pdf\n"
     ]
    },
    {
     "name": "stderr",
     "output_type": "stream",
     "text": [
      "  8%|██████████████▌                                                                                                                                                               | 1/12 [00:02<00:25,  2.34s/it]"
     ]
    },
    {
     "name": "stdout",
     "output_type": "stream",
     "text": [
      "WARNING: saving figure to file figures\\show\\Merge_regions\\ST_3M_AD_1_2.png\n",
      "WARNING: saving figure to file figures\\show\\Merge_regions\\ST_3M_AD_1_2.pdf\n"
     ]
    },
    {
     "name": "stderr",
     "output_type": "stream",
     "text": [
      " 17%|█████████████████████████████                                                                                                                                                 | 2/12 [00:05<00:26,  2.69s/it]"
     ]
    },
    {
     "name": "stdout",
     "output_type": "stream",
     "text": [
      "WARNING: saving figure to file figures\\show\\Merge_regions\\ST_3M_WT_1_1.png\n",
      "WARNING: saving figure to file figures\\show\\Merge_regions\\ST_3M_WT_1_1.pdf\n"
     ]
    },
    {
     "name": "stderr",
     "output_type": "stream",
     "text": [
      " 25%|███████████████████████████████████████████▌                                                                                                                                  | 3/12 [00:07<00:23,  2.57s/it]"
     ]
    },
    {
     "name": "stdout",
     "output_type": "stream",
     "text": [
      "WARNING: saving figure to file figures\\show\\Merge_regions\\ST_3M_WT_1_2.png\n",
      "WARNING: saving figure to file figures\\show\\Merge_regions\\ST_3M_WT_1_2.pdf\n"
     ]
    },
    {
     "name": "stderr",
     "output_type": "stream",
     "text": [
      " 33%|██████████████████████████████████████████████████████████                                                                                                                    | 4/12 [00:10<00:20,  2.61s/it]"
     ]
    },
    {
     "name": "stdout",
     "output_type": "stream",
     "text": [
      "WARNING: saving figure to file figures\\show\\Merge_regions\\ST_6M_AD_2_1.png\n",
      "WARNING: saving figure to file figures\\show\\Merge_regions\\ST_6M_AD_2_1.pdf\n"
     ]
    },
    {
     "name": "stderr",
     "output_type": "stream",
     "text": [
      " 42%|████████████████████████████████████████████████████████████████████████▌                                                                                                     | 5/12 [00:12<00:18,  2.61s/it]"
     ]
    },
    {
     "name": "stdout",
     "output_type": "stream",
     "text": [
      "WARNING: saving figure to file figures\\show\\Merge_regions\\ST_6M_AD_2_2.png\n",
      "WARNING: saving figure to file figures\\show\\Merge_regions\\ST_6M_AD_2_2.pdf\n"
     ]
    },
    {
     "name": "stderr",
     "output_type": "stream",
     "text": [
      " 50%|███████████████████████████████████████████████████████████████████████████████████████                                                                                       | 6/12 [00:15<00:15,  2.67s/it]"
     ]
    },
    {
     "name": "stdout",
     "output_type": "stream",
     "text": [
      "WARNING: saving figure to file figures\\show\\Merge_regions\\ST_6M_WT_2_1.png\n",
      "WARNING: saving figure to file figures\\show\\Merge_regions\\ST_6M_WT_2_1.pdf\n"
     ]
    },
    {
     "name": "stderr",
     "output_type": "stream",
     "text": [
      " 58%|█████████████████████████████████████████████████████████████████████████████████████████████████████▌                                                                        | 7/12 [00:18<00:13,  2.66s/it]"
     ]
    },
    {
     "name": "stdout",
     "output_type": "stream",
     "text": [
      "WARNING: saving figure to file figures\\show\\Merge_regions\\ST_6M_WT_2_2.png\n",
      "WARNING: saving figure to file figures\\show\\Merge_regions\\ST_6M_WT_2_2.pdf\n"
     ]
    },
    {
     "name": "stderr",
     "output_type": "stream",
     "text": [
      " 67%|████████████████████████████████████████████████████████████████████████████████████████████████████████████████████                                                          | 8/12 [00:20<00:10,  2.60s/it]"
     ]
    },
    {
     "name": "stdout",
     "output_type": "stream",
     "text": [
      "WARNING: saving figure to file figures\\show\\Merge_regions\\ST_15M_AD_2_1.png\n",
      "WARNING: saving figure to file figures\\show\\Merge_regions\\ST_15M_AD_2_1.pdf\n"
     ]
    },
    {
     "name": "stderr",
     "output_type": "stream",
     "text": [
      " 75%|██████████████████████████████████████████████████████████████████████████████████████████████████████████████████████████████████▌                                           | 9/12 [00:23<00:07,  2.66s/it]"
     ]
    },
    {
     "name": "stdout",
     "output_type": "stream",
     "text": [
      "WARNING: saving figure to file figures\\show\\Merge_regions\\ST_15M_AD_2_2.png\n",
      "WARNING: saving figure to file figures\\show\\Merge_regions\\ST_15M_AD_2_2.pdf\n"
     ]
    },
    {
     "name": "stderr",
     "output_type": "stream",
     "text": [
      " 83%|████████████████████████████████████████████████████████████████████████████████████████████████████████████████████████████████████████████████▏                            | 10/12 [00:26<00:05,  2.69s/it]"
     ]
    },
    {
     "name": "stdout",
     "output_type": "stream",
     "text": [
      "WARNING: saving figure to file figures\\show\\Merge_regions\\ST_15M_WT_2_1.png\n",
      "WARNING: saving figure to file figures\\show\\Merge_regions\\ST_15M_WT_2_1.pdf\n"
     ]
    },
    {
     "name": "stderr",
     "output_type": "stream",
     "text": [
      " 92%|██████████████████████████████████████████████████████████████████████████████████████████████████████████████████████████████████████████████████████████████▌              | 11/12 [00:28<00:02,  2.62s/it]"
     ]
    },
    {
     "name": "stdout",
     "output_type": "stream",
     "text": [
      "WARNING: saving figure to file figures\\show\\Merge_regions\\ST_15M_WT_2_2.png\n",
      "WARNING: saving figure to file figures\\show\\Merge_regions\\ST_15M_WT_2_2.pdf\n"
     ]
    },
    {
     "name": "stderr",
     "output_type": "stream",
     "text": [
      "100%|█████████████████████████████████████████████████████████████████████████████████████████████████████████████████████████████████████████████████████████████████████████████| 12/12 [00:31<00:00,  2.63s/it]\n"
     ]
    }
   ],
   "source": [
    "import tqdm\n",
    "\n",
    "if not os.path.exists(f'./figures/show/Merge_regions'):\n",
    "    os.makedirs(f'./figures/show/Merge_regions')\n",
    "\n",
    "for m in tqdm.tqdm(range(len(Batch_list))):\n",
    "    Batch_list[m].obs['Merge_regions'] = Batch_list[m].obs['STAligner'].map(lambda x:Merge_regions_dict[x])\n",
    "    \n",
    "    # sc.pl.embedding(Batch_list[m], color=[f'Merge_regions'], basis='spatial',\n",
    "    #                   frameon = False, size=80, title='', show=False,\n",
    "    #                   save=f'/Merge_regions/{section_ids[m]}.png')\n",
    "    # sc.pl.embedding(Batch_list[m], color=[f'Merge_regions'], basis='spatial',\n",
    "    #                   frameon = False, size=80, title='', show=False,\n",
    "    #                   save=f'/Merge_regions/{section_ids[m]}.pdf')\n",
    "    sc.pl.spatial(\n",
    "            Batch_list[m],\n",
    "            color=[f'Merge_regions'],\n",
    "            size=1.3,\n",
    "            img_key=\"hires\",\n",
    "            show=False,\n",
    "        frameon=False, title='',\n",
    "            save=f'/Merge_regions/{section_ids[m]}.png',\n",
    "        )\n",
    "    sc.pl.spatial(\n",
    "            Batch_list[m],\n",
    "            color=[f'Merge_regions'],\n",
    "            size=1.3,\n",
    "            img_key=\"hires\",\n",
    "            show=False,\n",
    "        frameon=False, title='',\n",
    "            save=f'/Merge_regions/{section_ids[m]}.pdf',\n",
    "        )"
   ]
  },
  {
   "cell_type": "code",
   "execution_count": 10,
   "id": "c5bd8761-dbcf-41e7-83e2-bbe0c5e24776",
   "metadata": {
    "execution": {
     "iopub.execute_input": "2024-10-24T03:25:46.699736Z",
     "iopub.status.busy": "2024-10-24T03:25:46.699736Z",
     "iopub.status.idle": "2024-10-24T03:26:18.194428Z",
     "shell.execute_reply": "2024-10-24T03:26:18.193427Z",
     "shell.execute_reply.started": "2024-10-24T03:25:46.699736Z"
    },
    "scrolled": true
   },
   "outputs": [
    {
     "name": "stderr",
     "output_type": "stream",
     "text": [
      "  0%|                                                                                                                                                                                      | 0/12 [00:00<?, ?it/s]"
     ]
    },
    {
     "name": "stdout",
     "output_type": "stream",
     "text": [
      "WARNING: saving figure to file figures\\show\\Merge_regions\\ST_3M_AD_1_1.png\n",
      "WARNING: saving figure to file figures\\show\\Merge_regions\\ST_3M_AD_1_1.pdf\n"
     ]
    },
    {
     "name": "stderr",
     "output_type": "stream",
     "text": [
      "  8%|██████████████▌                                                                                                                                                               | 1/12 [00:02<00:30,  2.74s/it]"
     ]
    },
    {
     "name": "stdout",
     "output_type": "stream",
     "text": [
      "WARNING: saving figure to file figures\\show\\Merge_regions\\ST_3M_AD_1_2.png\n",
      "WARNING: saving figure to file figures\\show\\Merge_regions\\ST_3M_AD_1_2.pdf\n"
     ]
    },
    {
     "name": "stderr",
     "output_type": "stream",
     "text": [
      " 17%|█████████████████████████████                                                                                                                                                 | 2/12 [00:05<00:26,  2.64s/it]"
     ]
    },
    {
     "name": "stdout",
     "output_type": "stream",
     "text": [
      "WARNING: saving figure to file figures\\show\\Merge_regions\\ST_3M_WT_1_1.png\n",
      "WARNING: saving figure to file figures\\show\\Merge_regions\\ST_3M_WT_1_1.pdf\n"
     ]
    },
    {
     "name": "stderr",
     "output_type": "stream",
     "text": [
      " 25%|███████████████████████████████████████████▌                                                                                                                                  | 3/12 [00:07<00:23,  2.63s/it]"
     ]
    },
    {
     "name": "stdout",
     "output_type": "stream",
     "text": [
      "WARNING: saving figure to file figures\\show\\Merge_regions\\ST_3M_WT_1_2.png\n",
      "WARNING: saving figure to file figures\\show\\Merge_regions\\ST_3M_WT_1_2.pdf\n"
     ]
    },
    {
     "name": "stderr",
     "output_type": "stream",
     "text": [
      " 33%|██████████████████████████████████████████████████████████                                                                                                                    | 4/12 [00:10<00:20,  2.57s/it]"
     ]
    },
    {
     "name": "stdout",
     "output_type": "stream",
     "text": [
      "WARNING: saving figure to file figures\\show\\Merge_regions\\ST_6M_AD_2_1.png\n",
      "WARNING: saving figure to file figures\\show\\Merge_regions\\ST_6M_AD_2_1.pdf\n"
     ]
    },
    {
     "name": "stderr",
     "output_type": "stream",
     "text": [
      " 42%|████████████████████████████████████████████████████████████████████████▌                                                                                                     | 5/12 [00:12<00:17,  2.57s/it]"
     ]
    },
    {
     "name": "stdout",
     "output_type": "stream",
     "text": [
      "WARNING: saving figure to file figures\\show\\Merge_regions\\ST_6M_AD_2_2.png\n",
      "WARNING: saving figure to file figures\\show\\Merge_regions\\ST_6M_AD_2_2.pdf\n"
     ]
    },
    {
     "name": "stderr",
     "output_type": "stream",
     "text": [
      " 50%|███████████████████████████████████████████████████████████████████████████████████████                                                                                       | 6/12 [00:15<00:15,  2.65s/it]"
     ]
    },
    {
     "name": "stdout",
     "output_type": "stream",
     "text": [
      "WARNING: saving figure to file figures\\show\\Merge_regions\\ST_6M_WT_2_1.png\n",
      "WARNING: saving figure to file figures\\show\\Merge_regions\\ST_6M_WT_2_1.pdf\n"
     ]
    },
    {
     "name": "stderr",
     "output_type": "stream",
     "text": [
      " 58%|█████████████████████████████████████████████████████████████████████████████████████████████████████▌                                                                        | 7/12 [00:18<00:12,  2.58s/it]"
     ]
    },
    {
     "name": "stdout",
     "output_type": "stream",
     "text": [
      "WARNING: saving figure to file figures\\show\\Merge_regions\\ST_6M_WT_2_2.png\n",
      "WARNING: saving figure to file figures\\show\\Merge_regions\\ST_6M_WT_2_2.pdf\n"
     ]
    },
    {
     "name": "stderr",
     "output_type": "stream",
     "text": [
      " 67%|████████████████████████████████████████████████████████████████████████████████████████████████████████████████████                                                          | 8/12 [00:20<00:10,  2.61s/it]"
     ]
    },
    {
     "name": "stdout",
     "output_type": "stream",
     "text": [
      "WARNING: saving figure to file figures\\show\\Merge_regions\\ST_15M_AD_2_1.png\n",
      "WARNING: saving figure to file figures\\show\\Merge_regions\\ST_15M_AD_2_1.pdf\n"
     ]
    },
    {
     "name": "stderr",
     "output_type": "stream",
     "text": [
      " 75%|██████████████████████████████████████████████████████████████████████████████████████████████████████████████████████████████████▌                                           | 9/12 [00:23<00:07,  2.64s/it]"
     ]
    },
    {
     "name": "stdout",
     "output_type": "stream",
     "text": [
      "WARNING: saving figure to file figures\\show\\Merge_regions\\ST_15M_AD_2_2.png\n",
      "WARNING: saving figure to file figures\\show\\Merge_regions\\ST_15M_AD_2_2.pdf\n"
     ]
    },
    {
     "name": "stderr",
     "output_type": "stream",
     "text": [
      " 83%|████████████████████████████████████████████████████████████████████████████████████████████████████████████████████████████████████████████████▏                            | 10/12 [00:26<00:05,  2.68s/it]"
     ]
    },
    {
     "name": "stdout",
     "output_type": "stream",
     "text": [
      "WARNING: saving figure to file figures\\show\\Merge_regions\\ST_15M_WT_2_1.png\n",
      "WARNING: saving figure to file figures\\show\\Merge_regions\\ST_15M_WT_2_1.pdf\n"
     ]
    },
    {
     "name": "stderr",
     "output_type": "stream",
     "text": [
      " 92%|██████████████████████████████████████████████████████████████████████████████████████████████████████████████████████████████████████████████████████████████▌              | 11/12 [00:28<00:02,  2.61s/it]"
     ]
    },
    {
     "name": "stdout",
     "output_type": "stream",
     "text": [
      "WARNING: saving figure to file figures\\show\\Merge_regions\\ST_15M_WT_2_2.png\n",
      "WARNING: saving figure to file figures\\show\\Merge_regions\\ST_15M_WT_2_2.pdf\n"
     ]
    },
    {
     "name": "stderr",
     "output_type": "stream",
     "text": [
      "100%|█████████████████████████████████████████████████████████████████████████████████████████████████████████████████████████████████████████████████████████████████████████████| 12/12 [00:31<00:00,  2.62s/it]\n"
     ]
    }
   ],
   "source": [
    "for m in tqdm.tqdm(range(len(Batch_list))):\n",
    "    Batch_list[m].uns['Merge_regions_colors'] = ['#6cad97', '#a8d3ea', '#c6c9cc', '#93ce91', '#dd6d6a', \n",
    "                                                 '#ea90a0', '#a2a3b7']\n",
    "    \n",
    "    # sc.pl.embedding(Batch_list[m], color=[f'Merge_regions'], basis='spatial',\n",
    "    #                   frameon = False, size=80, title='', show=False,\n",
    "    #                   save=f'/Merge_regions/{section_ids[m]}.png')\n",
    "    # sc.pl.embedding(Batch_list[m], color=[f'Merge_regions'], basis='spatial',\n",
    "    #                   frameon = False, size=80, title='', show=False,\n",
    "    #                   save=f'/Merge_regions/{section_ids[m]}.pdf')\n",
    "    sc.pl.spatial(\n",
    "            Batch_list[m],\n",
    "            color=[f'Merge_regions'],\n",
    "            size=1.3,\n",
    "            img_key=\"hires\",\n",
    "            show=False, frameon=False, title='',\n",
    "            save=f'/Merge_regions/{section_ids[m]}.png',\n",
    "        )\n",
    "    sc.pl.spatial(\n",
    "            Batch_list[m],\n",
    "            color=[f'Merge_regions'],\n",
    "            size=1.3,\n",
    "            img_key=\"hires\",\n",
    "            show=False, frameon=False, title='',\n",
    "            save=f'/Merge_regions/{section_ids[m]}.pdf',\n",
    "        )"
   ]
  },
  {
   "cell_type": "code",
   "execution_count": null,
   "id": "70f5d3be-15b4-4e42-8366-164f57238982",
   "metadata": {},
   "outputs": [],
   "source": []
  }
 ],
 "metadata": {
  "hide_input": false,
  "kernelspec": {
   "display_name": "Python 3 (ipykernel)",
   "language": "python",
   "name": "python3"
  },
  "language_info": {
   "codemirror_mode": {
    "name": "ipython",
    "version": 3
   },
   "file_extension": ".py",
   "mimetype": "text/x-python",
   "name": "python",
   "nbconvert_exporter": "python",
   "pygments_lexer": "ipython3",
   "version": "3.8.12"
  },
  "toc": {
   "base_numbering": 1,
   "nav_menu": {},
   "number_sections": true,
   "sideBar": true,
   "skip_h1_title": false,
   "title_cell": "Table of Contents",
   "title_sidebar": "Contents",
   "toc_cell": false,
   "toc_position": {},
   "toc_section_display": true,
   "toc_window_display": true
  },
  "varInspector": {
   "cols": {
    "lenName": 16,
    "lenType": 16,
    "lenVar": 40
   },
   "kernels_config": {
    "python": {
     "delete_cmd_postfix": "",
     "delete_cmd_prefix": "del ",
     "library": "var_list.py",
     "varRefreshCmd": "print(var_dic_list())"
    },
    "r": {
     "delete_cmd_postfix": ") ",
     "delete_cmd_prefix": "rm(",
     "library": "var_list.r",
     "varRefreshCmd": "cat(var_dic_list()) "
    }
   },
   "types_to_exclude": [
    "module",
    "function",
    "builtin_function_or_method",
    "instance",
    "_Feature"
   ],
   "window_display": false
  }
 },
 "nbformat": 4,
 "nbformat_minor": 5
}
